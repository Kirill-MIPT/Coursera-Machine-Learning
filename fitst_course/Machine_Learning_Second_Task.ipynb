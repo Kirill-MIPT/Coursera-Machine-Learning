{
 "cells": [
  {
   "cell_type": "markdown",
   "metadata": {},
   "source": [
    "# Перевод к нижнему регистру"
   ]
  },
  {
   "cell_type": "code",
   "execution_count": 22,
   "metadata": {
    "collapsed": true
   },
   "outputs": [],
   "source": [
    "import os\n",
    "f = open('sentences.txt','r+')\n",
    "t = open(\"filename.txt\", \"w+\")\n",
    "\n",
    "f = list (f)\n",
    "\n",
    "for line in f:\n",
    "     t.write(line.lower())\n",
    "t.close()\n",
    "\n",
    "os.remove(\"sentences.txt\")\n",
    "os.rename('filename.txt', 'sentences.txt')\n",
    "\n",
    "        "
   ]
  },
  {
   "cell_type": "markdown",
   "metadata": {
    "collapsed": true
   },
   "source": [
    "## Разбиение текстов на слова"
   ]
  },
  {
   "cell_type": "code",
   "execution_count": 23,
   "metadata": {},
   "outputs": [
    {
     "data": {
      "text/plain": [
       "{0: 'displays',\n",
       " 1: 'osx',\n",
       " 2: 'selection',\n",
       " 3: 'safari',\n",
       " 4: 'just',\n",
       " 5: 'developed',\n",
       " 6: 'over',\n",
       " 7: 'vermin',\n",
       " 8: 'domestic',\n",
       " 9: 'named',\n",
       " 10: 'installed',\n",
       " 11: 'symbols',\n",
       " 12: 'through',\n",
       " 13: 'human',\n",
       " 14: 'during',\n",
       " 15: 'disk',\n",
       " 16: 'its',\n",
       " 17: 'fifth',\n",
       " 18: 'features',\n",
       " 19: 'tamed',\n",
       " 20: 'upgrade',\n",
       " 21: 'lb',\n",
       " 22: 'computers',\n",
       " 23: 'drive',\n",
       " 24: 'to',\n",
       " 25: 'comparison',\n",
       " 26: 'deliberately',\n",
       " 27: 'marks',\n",
       " 28: 'has',\n",
       " 29: 'predecessor',\n",
       " 30: 'non',\n",
       " 31: 'which',\n",
       " 32: 'read',\n",
       " 33: 'october',\n",
       " 34: 'every',\n",
       " 35: 'os',\n",
       " 36: 'they',\n",
       " 37: 'not',\n",
       " 38: 'using',\n",
       " 39: 'now',\n",
       " 40: 'possess',\n",
       " 41: 'intel',\n",
       " 42: 'keyboards',\n",
       " 43: 'bytes',\n",
       " 44: 'unnecessary',\n",
       " 45: 'patch',\n",
       " 46: 'predators',\n",
       " 47: 'small',\n",
       " 48: 'output',\n",
       " 49: 'entirely',\n",
       " 50: 'where',\n",
       " 51: 'catenates',\n",
       " 52: 'available',\n",
       " 53: 'right',\n",
       " 54: 'often',\n",
       " 55: 'people',\n",
       " 56: 'some',\n",
       " 57: 'lion',\n",
       " 58: 'frequency',\n",
       " 59: 'are',\n",
       " 60: 'year',\n",
       " 61: 'download',\n",
       " 62: 'terms',\n",
       " 63: 'firmware',\n",
       " 64: 'concern',\n",
       " 65: 'flow',\n",
       " 66: 'error',\n",
       " 67: 'won',\n",
       " 68: 'for',\n",
       " 69: 'pipes',\n",
       " 70: 'since',\n",
       " 71: 'factory',\n",
       " 72: 'artificial',\n",
       " 73: 'content',\n",
       " 74: 'version',\n",
       " 75: 'run',\n",
       " 76: 'between',\n",
       " 77: 'new',\n",
       " 78: 'learned',\n",
       " 79: 'three',\n",
       " 80: 'piped',\n",
       " 81: 'common',\n",
       " 82: 'concatenate',\n",
       " 83: 'be',\n",
       " 84: 'weighing',\n",
       " 85: 'genes',\n",
       " 86: 'however',\n",
       " 87: 'standard',\n",
       " 88: 'release',\n",
       " 89: 'diploid',\n",
       " 90: 'members',\n",
       " 91: 'x',\n",
       " 92: 'based',\n",
       " 93: 'safer',\n",
       " 94: 'by',\n",
       " 95: 'both',\n",
       " 96: 'commands',\n",
       " 97: 'installation',\n",
       " 98: 'world',\n",
       " 99: 'installs',\n",
       " 100: 'legibility',\n",
       " 101: 'needing',\n",
       " 102: 'allows',\n",
       " 103: 'according',\n",
       " 104: 'july',\n",
       " 105: 'later',\n",
       " 106: 'mac',\n",
       " 107: 's',\n",
       " 108: 'streams',\n",
       " 109: 'receives',\n",
       " 110: 'successor',\n",
       " 111: 'ears',\n",
       " 112: 'changes',\n",
       " 113: 'or',\n",
       " 114: 'and',\n",
       " 115: 'major',\n",
       " 116: 'faint',\n",
       " 117: 'useful',\n",
       " 118: 'apple',\n",
       " 119: 'app',\n",
       " 120: 'community',\n",
       " 121: 'one',\n",
       " 122: 'running',\n",
       " 123: 'unix',\n",
       " 124: 'simply',\n",
       " 125: 'linux',\n",
       " 126: 'sounds',\n",
       " 127: 'size',\n",
       " 128: 'undergone',\n",
       " 129: 'from',\n",
       " 130: 'enhancements',\n",
       " 131: 'second',\n",
       " 132: 'their',\n",
       " 133: 'create',\n",
       " 134: 'sequence',\n",
       " 135: 'two',\n",
       " 136: 't',\n",
       " 137: 'redirection',\n",
       " 138: 'cats',\n",
       " 139: 'too',\n",
       " 140: 'basic',\n",
       " 141: 'permanently',\n",
       " 142: 'type',\n",
       " 143: 'dogs',\n",
       " 144: 'store',\n",
       " 145: 'more',\n",
       " 146: 'files',\n",
       " 147: 'releases',\n",
       " 148: 'received',\n",
       " 149: 'started',\n",
       " 150: 'contains',\n",
       " 151: 'releasing',\n",
       " 152: 'tiger',\n",
       " 153: 'released',\n",
       " 154: 'part',\n",
       " 155: 'hear',\n",
       " 156: 'external',\n",
       " 157: 'editions',\n",
       " 158: 'off',\n",
       " 159: 'mice',\n",
       " 160: 'with',\n",
       " 161: 'than',\n",
       " 162: 'those',\n",
       " 163: 'longer',\n",
       " 164: 'count',\n",
       " 165: 'made',\n",
       " 166: 'animals',\n",
       " 167: 'mavericks',\n",
       " 168: 'versions',\n",
       " 169: 'default',\n",
       " 170: 'was',\n",
       " 171: 'as',\n",
       " 172: 'cat',\n",
       " 173: 'will',\n",
       " 174: 'can',\n",
       " 175: 'were',\n",
       " 176: 'wild',\n",
       " 177: 'similar',\n",
       " 178: 'delete',\n",
       " 179: 'felis',\n",
       " 180: 'mountain',\n",
       " 181: 'interactive',\n",
       " 182: 'file',\n",
       " 183: 'stdout',\n",
       " 184: 'process',\n",
       " 185: 'of',\n",
       " 186: 'is',\n",
       " 187: 'moved',\n",
       " 188: 'it',\n",
       " 189: 'an',\n",
       " 190: 'high',\n",
       " 191: 'single',\n",
       " 192: 'incremental',\n",
       " 193: 'have',\n",
       " 194: 'in',\n",
       " 195: 'need',\n",
       " 196: 'domesticated',\n",
       " 197: 'any',\n",
       " 198: 'domestication',\n",
       " 199: 'if',\n",
       " 200: 'binary',\n",
       " 201: 'processors',\n",
       " 202: 'no',\n",
       " 203: 'rather',\n",
       " 204: 'separate',\n",
       " 205: 'that',\n",
       " 206: 'when',\n",
       " 207: 'mid',\n",
       " 208: 'also',\n",
       " 209: 'other',\n",
       " 210: 'arguments',\n",
       " 211: 'adjacent',\n",
       " 212: 'online',\n",
       " 213: 'instead',\n",
       " 214: 'you',\n",
       " 215: 'ancestor',\n",
       " 216: 'offered',\n",
       " 217: 'used',\n",
       " 218: 'chromosomes',\n",
       " 219: 'closest',\n",
       " 220: 'information',\n",
       " 221: 'may',\n",
       " 222: 'symbol',\n",
       " 223: 'use',\n",
       " 224: 'leopard',\n",
       " 225: 'update',\n",
       " 226: 'most',\n",
       " 227: 'wrong',\n",
       " 228: 'connected',\n",
       " 229: 'yosemite',\n",
       " 230: 'such',\n",
       " 231: 'on',\n",
       " 232: 'recent',\n",
       " 233: 'a',\n",
       " 234: 'purchase',\n",
       " 235: 'genus',\n",
       " 236: 'kg',\n",
       " 237: 'organisms',\n",
       " 238: 'typically',\n",
       " 239: 'clear',\n",
       " 240: 'stdin',\n",
       " 241: 'lines',\n",
       " 242: 'roughly',\n",
       " 243: 'so',\n",
       " 244: 'switch',\n",
       " 245: 'without',\n",
       " 246: 'command',\n",
       " 247: 'place',\n",
       " 248: 'allow',\n",
       " 249: 'time',\n",
       " 250: 'redirected',\n",
       " 251: 'the',\n",
       " 252: 'starting',\n",
       " 253: 'left'}"
      ]
     },
     "execution_count": 23,
     "metadata": {},
     "output_type": "execute_result"
    }
   ],
   "source": [
    "import re\n",
    "with open(\"sentences.txt\", \"r+\") as t:\n",
    "    t = list (t)\n",
    "    dictionary = {}\n",
    "    for line in t:\n",
    "        result = filter (None,re.split('[^a-z]', line))                               #удалили пустые символы(filter) и разделили слова (split)\n",
    "        dictionary.update ({word: index for index, word in enumerate(result)})        # записываем слова в словарь, ключ - слово, значение - число\n",
    "dictionary1 = {}                                                                  # создам новый словарь, чтобы положить туда исправленный dictionary\n",
    "dictionary1.update ({word: index for index, word in enumerate(dictionary.keys())})#делаем уникальные значения ключа\n",
    "dictionary1 = dict(zip(dictionary1.values(), dictionary1.keys()))                 # меняем местами число и ключ\n",
    "dictionary1\n",
    "\n",
    "\n"
   ]
  },
  {
   "cell_type": "markdown",
   "metadata": {},
   "source": [
    "### создание матрицы"
   ]
  },
  {
   "cell_type": "code",
   "execution_count": 24,
   "metadata": {},
   "outputs": [],
   "source": [
    "#Создайте матрицу размера n * d, где n — число предложений. Заполните ее: элемент с индексом (i, j) в этой матрице\n",
    "#должен быть равен количеству вхождений j-го слова в i-е предложение. У вас должна получиться матрица размера 22 * 254.\n",
    "import numpy as np\n",
    "import re\n",
    "i = 0\n",
    "j = 0\n",
    "c = np.ones((22, 254))                              #создали матрицу\n",
    "while i < len(f):                                    \n",
    "    j = 0                                             \n",
    "    temp = filter (None,re.split('[^a-z]', t[i]))   #элемент с индексом (i, j) в этой матрице \n",
    "    while j < 254:                                  #равен количеству вхождений j-го слова в i-е предложение\n",
    "        k = temp.count(dictionary1.get(j)) \n",
    "        c[i,j] = k\n",
    "        j+=1\n",
    "    i+=1\n",
    "\n"
   ]
  },
  {
   "cell_type": "markdown",
   "metadata": {},
   "source": [
    "## Считаем косинусное расстояние "
   ]
  },
  {
   "cell_type": "code",
   "execution_count": 26,
   "metadata": {},
   "outputs": [
    {
     "data": {
      "text/plain": [
       "5"
      ]
     },
     "execution_count": 26,
     "metadata": {},
     "output_type": "execute_result"
    }
   ],
   "source": [
    "import scipy\n",
    "from scipy import spatial\n",
    "array = []\n",
    "dictionary2 = {}\n",
    "i = 1\n",
    "while i < len(f) :\n",
    "    array.append(scipy.spatial.distance.cosine(c[0], c[i])) # записали расстояния от 0 \n",
    "    i +=1\n",
    "dictionary2.update ({word: index for index, word in enumerate(array)}) #до всех предложений в массив, создали словарь расстояние - номер строки\n",
    "min1 = min(dictionary2.keys())                                          # достали минимальный ключ и значения по элементам\n",
    "number1 = dictionary2.get(min1)\n",
    "number1\n",
    "#del dictionary2[min1]\n",
    "#min2 = min(dictionary2.keys())\n",
    "#number2 = dictionary2.get(min2)\n",
    "#number2"
   ]
  },
  {
   "cell_type": "markdown",
   "metadata": {},
   "source": [
    "## Записываем ответ"
   ]
  },
  {
   "cell_type": "code",
   "execution_count": 16,
   "metadata": {},
   "outputs": [
    {
     "ename": "TypeError",
     "evalue": "not enough arguments for format string",
     "output_type": "error",
     "traceback": [
      "\u001b[0;31m---------------------------------------------------------------------------\u001b[0m",
      "\u001b[0;31mTypeError\u001b[0m                                 Traceback (most recent call last)",
      "\u001b[0;32m<ipython-input-16-d0b3fbf6ca83>\u001b[0m in \u001b[0;36m<module>\u001b[0;34m()\u001b[0m\n\u001b[1;32m      2\u001b[0m     \u001b[0manswer\u001b[0m \u001b[0;34m=\u001b[0m \u001b[0;34m[\u001b[0m\u001b[0mnumber1\u001b[0m\u001b[0;34m,\u001b[0m\u001b[0mnumber2\u001b[0m\u001b[0;34m]\u001b[0m\u001b[0;34m\u001b[0m\u001b[0m\n\u001b[1;32m      3\u001b[0m     \u001b[0;32mfor\u001b[0m \u001b[0mitem\u001b[0m \u001b[0;32min\u001b[0m \u001b[0manswer\u001b[0m\u001b[0;34m:\u001b[0m\u001b[0;34m\u001b[0m\u001b[0m\n\u001b[0;32m----> 4\u001b[0;31m         \u001b[0ma\u001b[0m\u001b[0;34m.\u001b[0m\u001b[0mwrite\u001b[0m\u001b[0;34m(\u001b[0m\u001b[0;34m\"%s %s\"\u001b[0m \u001b[0;34m%\u001b[0m \u001b[0mitem\u001b[0m \u001b[0;34m%\u001b[0m \u001b[0mitem\u001b[0m\u001b[0;34m)\u001b[0m\u001b[0;34m\u001b[0m\u001b[0m\n\u001b[0m\u001b[1;32m      5\u001b[0m \u001b[0mget_ipython\u001b[0m\u001b[0;34m(\u001b[0m\u001b[0;34m)\u001b[0m\u001b[0;34m.\u001b[0m\u001b[0msystem\u001b[0m\u001b[0;34m(\u001b[0m\u001b[0;34mu'cat answers1.txt'\u001b[0m\u001b[0;34m)\u001b[0m\u001b[0;34m\u001b[0m\u001b[0m\n",
      "\u001b[0;31mTypeError\u001b[0m: not enough arguments for format string"
     ]
    }
   ],
   "source": [
    "with open(\"answers1.txt\", \"w+\") as a:\n",
    "    answer = [number1,number2]\n",
    "    for item in answer:\n",
    "        a.write(\"%s %s\" % item % item)\n",
    "!cat answers1.txt"
   ]
  },
  {
   "cell_type": "markdown",
   "metadata": {},
   "source": [
    "# Часть 2. Апроксимация функции"
   ]
  },
  {
   "cell_type": "code",
   "execution_count": 6,
   "metadata": {},
   "outputs": [
    {
     "data": {
      "image/png": "[encoded data removed]",
      "text/plain": [
       "<matplotlib.figure.Figure at 0x7f2205679e10>"
      ]
     },
     "metadata": {},
     "output_type": "display_data"
    },
    {
     "data": {
      "text/plain": [
       "array([ 4.36264154, -1.29552587,  0.19333685, -0.00823565])"
      ]
     },
     "execution_count": 6,
     "metadata": {},
     "output_type": "execute_result"
    }
   ],
   "source": [
    "import scipy\n",
    "import numpy as np\n",
    "import pandas as pd\n",
    "from numpy import linalg\n",
    "import numpy as np\n",
    "import matplotlib.pyplot as plt\n",
    "def g(x):\n",
    "    return np.sin(x / 5.)* np.exp(x / 10.) + 5 * np.exp(-x /2.)\n",
    "matrix = np.array([[1, 1, 1, 1],[1, 4, 16, 64],[1, 10, 100, 1000], [1, 15, 225, 3375]])\n",
    "s1 = g(1)\n",
    "s2 = g(4)\n",
    "s3 = g(10)\n",
    "s4 = g(15)\n",
    "value = np.array([s1,s2,s3,s4])\n",
    "elements = linalg.solve(matrix,value)\n",
    "def f(x):\n",
    "    i = 0\n",
    "    y = 0\n",
    "    while i<4:\n",
    "        y = elements[i]*(x**i) + y\n",
    "        i+=1\n",
    "    return y\n",
    "x = np.arange(0., 16., 0.05)\n",
    "plt.plot(x, f(x))\n",
    "plt.show()\n",
    "elements   "
   ]
  },
  {
   "cell_type": "markdown",
   "metadata": {},
   "source": [
    "## записываем ответ"
   ]
  },
  {
   "cell_type": "code",
   "execution_count": 10,
   "metadata": {},
   "outputs": [
    {
     "name": "stdout",
     "output_type": "stream",
     "text": [
      " 4.36264153512 -1.29552586569 0.193336847022 -0.00823565117332"
     ]
    }
   ],
   "source": [
    "with open(\"answers2.txt\", \"w+\") as a:\n",
    "    answer2 = elements\n",
    "    for item in answer2:\n",
    "        a.write(\" %s\" % item)\n",
    "!cat answers2.txt"
   ]
  },
  {
   "cell_type": "markdown",
   "metadata": {},
   "source": [
    "## шпора от Антохи, как объявлять функцию"
   ]
  },
  {
   "cell_type": "code",
   "execution_count": null,
   "metadata": {
    "collapsed": true
   },
   "outputs": [],
   "source": [
    "def t(x):\n",
    "    return x**2\n",
    "t = lambda x: x**2"
   ]
  },
  {
   "cell_type": "code",
   "execution_count": 20,
   "metadata": {},
   "outputs": [
    {
     "name": "stdout",
     "output_type": "stream",
     "text": [
      "[0, 1, 2, 3, 4]\n"
     ]
    },
    {
     "ename": "AttributeError",
     "evalue": "'str' object has no attribute 'space'",
     "output_type": "error",
     "traceback": [
      "\u001b[0;31m---------------------------------------------------------------------------\u001b[0m",
      "\u001b[0;31mAttributeError\u001b[0m                            Traceback (most recent call last)",
      "\u001b[0;32m<ipython-input-20-749185628340>\u001b[0m in \u001b[0;36m<module>\u001b[0;34m()\u001b[0m\n\u001b[1;32m      2\u001b[0m \u001b[0;32mprint\u001b[0m \u001b[0ml\u001b[0m\u001b[0;34m\u001b[0m\u001b[0m\n\u001b[1;32m      3\u001b[0m \u001b[0;34m[\u001b[0m\u001b[0;36m0\u001b[0m\u001b[0;34m,\u001b[0m \u001b[0;36m1\u001b[0m\u001b[0;34m,\u001b[0m \u001b[0;36m2\u001b[0m\u001b[0;34m,\u001b[0m \u001b[0;36m3\u001b[0m\u001b[0;34m,\u001b[0m \u001b[0;36m4\u001b[0m\u001b[0;34m]\u001b[0m\u001b[0;34m\u001b[0m\u001b[0m\n\u001b[0;32m----> 4\u001b[0;31m \u001b[0;34m''\u001b[0m\u001b[0;34m.\u001b[0m\u001b[0mspace\u001b[0m\u001b[0;34m(\u001b[0m\u001b[0mstr\u001b[0m\u001b[0;34m(\u001b[0m\u001b[0mi\u001b[0m\u001b[0;34m)\u001b[0m \u001b[0;32mfor\u001b[0m \u001b[0mi\u001b[0m \u001b[0;32min\u001b[0m \u001b[0ml\u001b[0m\u001b[0;34m)\u001b[0m\u001b[0;34m\u001b[0m\u001b[0m\n\u001b[0m\u001b[1;32m      5\u001b[0m \u001b[0;34m'01234'\u001b[0m\u001b[0;34m\u001b[0m\u001b[0m\n",
      "\u001b[0;31mAttributeError\u001b[0m: 'str' object has no attribute 'space'"
     ]
    }
   ],
   "source": [
    ">>> l=range(5)\n",
    ">>> print l\n",
    "[0, 1, 2, 3, 4]\n",
    ">>> ''.space(str(i) for i in l)\n",
    "'01234'"
   ]
  },
  {
   "cell_type": "code",
   "execution_count": null,
   "metadata": {
    "collapsed": true
   },
   "outputs": [],
   "source": []
  }
 ],
 "metadata": {
  "kernelspec": {
   "display_name": "Python 2",
   "language": "python",
   "name": "python2"
  },
  "language_info": {
   "codemirror_mode": {
    "name": "ipython",
    "version": 2
   },
   "file_extension": ".py",
   "mimetype": "text/x-python",
   "name": "python",
   "nbconvert_exporter": "python",
   "pygments_lexer": "ipython2",
   "version": "2.7.15"
  }
 },
 "nbformat": 4,
 "nbformat_minor": 2
}
